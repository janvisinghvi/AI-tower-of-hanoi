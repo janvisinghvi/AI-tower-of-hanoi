{
  "nbformat": 4,
  "nbformat_minor": 0,
  "metadata": {
    "colab": {
      "name": "hanoi.ipynb",
      "version": "0.3.2",
      "provenance": [],
      "collapsed_sections": [],
      "include_colab_link": true
    },
    "kernelspec": {
      "name": "python3",
      "display_name": "Python 3"
    }
  },
  "cells": [
    {
      "cell_type": "markdown",
      "metadata": {
        "id": "view-in-github",
        "colab_type": "text"
      },
      "source": [
        "<a href=\"https://colab.research.google.com/github/janvisinghvi/AI-tower-of-hanoi/blob/master/hanoi.ipynb\" target=\"_parent\"><img src=\"https://colab.research.google.com/assets/colab-badge.svg\" alt=\"Open In Colab\"/></a>"
      ]
    },
    {
      "cell_type": "code",
      "metadata": {
        "id": "H1shJc-s7KN4",
        "colab_type": "code",
        "colab": {
          "base_uri": "https://localhost:8080/",
          "height": 153
        },
        "outputId": "9d1be3f3-579a-46f1-8542-c659901cf52d"
      },
      "source": [
        "def hanoi(disks,source,auxillary,target):\n",
        "    if disks ==1:\n",
        "        print(\"Move Disk1 from peg{} to peg{}.\".format(source,target))\n",
        "        return\n",
        "    hanoi(disks-1,source,target,auxillary)\n",
        "    print(\"Move Disk{} from peg{} to peg{}.\".format(disks,source,target))\n",
        "    hanoi(disks-1,auxillary,source,target)\n",
        "disks=(int(input(\"Enter Number of disks:\")))\n",
        "hanoi(disks,'A','B','C')\n"
      ],
      "execution_count": 1,
      "outputs": [
        {
          "output_type": "stream",
          "text": [
            "Enter Number of disks:3\n",
            "Move Disk1 from pegA to pegC.\n",
            "Move Disk2 from pegA to pegB.\n",
            "Move Disk1 from pegC to pegB.\n",
            "Move Disk3 from pegA to pegC.\n",
            "Move Disk1 from pegB to pegA.\n",
            "Move Disk2 from pegB to pegC.\n",
            "Move Disk1 from pegA to pegC.\n"
          ],
          "name": "stdout"
        }
      ]
    }
  ]
}